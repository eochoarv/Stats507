{
 "cells": [
  {
   "cell_type": "markdown",
   "id": "767425b6",
   "metadata": {},
   "source": [
    "# Statistics 507\n",
    "## Fall 2021\n",
    "### Problem Set 2\n",
    "Eduardo Ochoa Rivera \\\n",
    "October 1, 2021"
   ]
  },
  {
   "cell_type": "markdown",
   "id": "d5feae00",
   "metadata": {},
   "source": [
    "## Module imports"
   ]
  },
  {
   "cell_type": "code",
   "execution_count": 1,
   "id": "20465306",
   "metadata": {},
   "outputs": [],
   "source": [
    "import numpy as np\n",
    "from numpy import random\n",
    "import pandas as pd\n",
    "from IPython.core.display import Markdown\n",
    "from collections import defaultdict\n",
    "from timeit import Timer\n",
    "import re\n",
    "from os.path import exists\n",
    "import os"
   ]
  },
  {
   "cell_type": "markdown",
   "id": "48ad9df9",
   "metadata": {},
   "source": [
    "# Question 3 - [30 points]"
   ]
  },
  {
   "cell_type": "code",
   "execution_count": 9,
   "id": "892f905c",
   "metadata": {},
   "outputs": [],
   "source": [
    "def download_read_file(file_name, link):\n",
    "    '''\n",
    "    Function that look for the file's name to read it. It it doesn't \n",
    "    find it, download the file and save it as csv.\n",
    "\n",
    "    Parameters\n",
    "    ----------\n",
    "    file_name : (str)\n",
    "        Name of the file.\n",
    "    link : (str)\n",
    "        Link to download the file from internet.\n",
    "\n",
    "    Returns\n",
    "    -------\n",
    "    DataFrame.\n",
    "\n",
    "    '''\n",
    "    if exists(file_name):\n",
    "        try:\n",
    "            return pd.read_sas(file_name)\n",
    "        except:\n",
    "            return pd.read_csv(file_name)\n",
    "    else:\n",
    "        file = pd.read_sas(link)\n",
    "        file.to_csv(file_name)\n",
    "        return file"
   ]
  },
  {
   "cell_type": "code",
   "execution_count": 10,
   "id": "c944a60d",
   "metadata": {},
   "outputs": [],
   "source": [
    "path = '/Users/eochoa/Downloads/'\n",
    "os.chdir(path)"
   ]
  },
  {
   "cell_type": "markdown",
   "id": "45a0eca0",
   "metadata": {},
   "source": [
    "### a) Demographic data"
   ]
  },
  {
   "cell_type": "code",
   "execution_count": 11,
   "id": "9f765216",
   "metadata": {},
   "outputs": [],
   "source": [
    "list_filenames_demo = ['DEMO_G.XPT', \n",
    "                       'DEMO_H.XPT',\n",
    "                       'DEMO_I.XPT',\n",
    "                       'DEMO_J.XPT']\n",
    "\n",
    "list_link_demo = ['https://wwwn.cdc.gov/Nchs/Nhanes/2011-2012/DEMO_G.XPT',\n",
    "                  'https://wwwn.cdc.gov/Nchs/Nhanes/2013-2014/DEMO_H.XPT',\n",
    "                  'https://wwwn.cdc.gov/Nchs/Nhanes/2015-2016/DEMO_I.XPT',\n",
    "                  'https://wwwn.cdc.gov/Nchs/Nhanes/2017-2018/DEMO_J.XPT']\n",
    "\n",
    "list_cohort_demo = ['2011-2012',\n",
    "                    '2013-2014',\n",
    "                    '2015-2016',\n",
    "                    '2017-2018']\n",
    "\n",
    "col_ids_demo = ['SEQN', 'RIDAGEYR', 'RIDRETH3', 'DMDEDUC2', 'DMDMARTL', \n",
    "            'RIDSTATR', 'SDMVPSU', 'SDMVSTRA', 'WTMEC2YR', 'WTINT2YR', \n",
    "            'cohort']\n",
    "\n",
    "col_names_demo =['unique_ids', 'age', 'race_ethnicity', \n",
    "                 'education', 'marital_status', \n",
    "                 'interview_status', \n",
    "                 'masked_variance_pseudo_PSU',\n",
    "                 'masked_variance_pseudo_stratum', \n",
    "                 'MEC_exam_weight',\n",
    "                 'interview_weight', 'cohort']\n",
    "\n",
    "col_dict_demo = {i: n for i,n in zip(col_ids_demo, col_names_demo)}\n",
    "\n",
    "value_des_race = {1: 'Mexican American',\n",
    "                  2: 'Other Hispanic',\n",
    "                  3: 'Non-Hispanic White',\n",
    "                  4: 'Non-Hispanic Black',\n",
    "                  6: 'Non-Hispanic Asian',\n",
    "                  7: 'Other Race - Including Multi-Racial'}\n",
    "\n",
    "value_des_edu = {1: 'Less than 9th grade',\n",
    "                 2: '9-11th grade (Includes 12th grade with no diploma)',\n",
    "                 3: 'High school graduate/GED or equivalent',\n",
    "                 4: 'Some college or AA degree',\n",
    "                 5: 'College graduate or above',\n",
    "                 7: 'Refused',\n",
    "                 9: 'Dont Know'}\n",
    "\n",
    "value_des_marit = {1: 'Married',\n",
    "                   2: 'Widowed',\n",
    "                   3: 'Divorced',\n",
    "                   4: 'Separated',\n",
    "                   5: 'Never married',\n",
    "                   6: 'Living with partner',\n",
    "                   77: 'Refused',\n",
    "                   99: 'Dont Know'}\n",
    "\n",
    "value_des_interv = {1: 'Interviewed only',\n",
    "                    2: 'Both interviewed and MEC examined'}"
   ]
  },
  {
   "cell_type": "code",
   "execution_count": 12,
   "id": "52ed60d5",
   "metadata": {
    "lines_to_next_cell": 2
   },
   "outputs": [],
   "source": [
    "df_demo = pd.DataFrame()\n",
    "\n",
    "for f,l,c in zip(list_filenames_demo, \n",
    "                 list_link_demo, \n",
    "                 list_cohort_demo):\n",
    "    _ = download_read_file(f, l)\n",
    "    _['cohort'] = c\n",
    "    df_demo = df_demo.append(_)\n",
    "    \n",
    "df_demo = df_demo.loc[:, col_ids_demo]\n",
    "df_demo = df_demo.rename(columns=col_dict_demo)\n",
    "df_demo = df_demo.reset_index(drop=True)\n",
    "\n",
    "df_demo.loc[:,'unique_ids':'age'] = df_demo.loc[:,'unique_ids':\n",
    "                                                'age'].astype('int')\n",
    "\n",
    "df_demo['education'] = pd.Categorical(df_demo['education'].\n",
    "                                      replace(value_des_edu))\n",
    "\n",
    "df_demo['race_ethnicity'] = pd.Categorical(df_demo['race_ethnicity'].\n",
    "                                      replace(value_des_race))\n",
    "\n",
    "df_demo['marital_status'] = pd.Categorical(df_demo['marital_status'].\n",
    "                                      replace(value_des_marit))\n",
    "\n",
    "df_demo['interview_status'] = pd.Categorical(df_demo['interview_status'].\n",
    "                                      replace(value_des_interv))\n",
    "\n",
    "df_demo.to_feather('DEMO.feather')"
   ]
  },
  {
   "cell_type": "markdown",
   "id": "f6eaf61c",
   "metadata": {},
   "source": [
    "### b) Oral health and dentition data"
   ]
  },
  {
   "cell_type": "code",
   "execution_count": 13,
   "id": "711f3726",
   "metadata": {},
   "outputs": [],
   "source": [
    "list_filenames_oral_h = ['OHXDEN_G.XPT', \n",
    "                         'OHXDEN_H.XPT',\n",
    "                         'OHXDEN_I.XPT',\n",
    "                         'OHXDEN_J.XPT']\n",
    "\n",
    "list_link_oral_h = ['https://wwwn.cdc.gov/Nchs/Nhanes/2011-2012/OHXDEN_G.XPT',\n",
    "                    'https://wwwn.cdc.gov/Nchs/Nhanes/2013-2014/OHXDEN_H.XPT',\n",
    "                    'https://wwwn.cdc.gov/Nchs/Nhanes/2015-2016/OHXDEN_I.XPT',\n",
    "                    'https://wwwn.cdc.gov/Nchs/Nhanes/2017-2018/OHXDEN_J.XPT']\n",
    "\n",
    "list_cohort_oral_h = ['2011-2012',\n",
    "                      '2013-2014',\n",
    "                      '2015-2016',\n",
    "                      '2017-2018']\n",
    "\n",
    "value_des_dent = {1: 'Complete',\n",
    "                  2: 'Partial',\n",
    "                  3: 'Not_Done'}\n",
    "\n",
    "value_des_tooth = {1: 'Primary tooth (deciduous) present',\n",
    "                  2: 'Permanent tooth present',\n",
    "                  3: 'Dental implant',\n",
    "                  4: 'Tooth not present',\n",
    "                  5: 'Permanent dental root fragment present',\n",
    "                  9: 'Could not assess'}\n",
    "\n",
    "value_des_coronal = {'A': 'Primary tooth with a restored surface condition',\n",
    "                     'D': 'Sound primary tooth',\n",
    "                     'E': 'Missing due to dental disease',\n",
    "                     'F': 'Permanent tooth with a restored surface condition',\n",
    "                     'J': 'Permanent root tip is present but no restorative replacement is present',\n",
    "                     'K': 'Primary tooth with a dental carious surface condition',\n",
    "                     'M': 'Missing due to other causes',\n",
    "                     'P': 'Missing due to dental disease but replaced by a removable restoration',\n",
    "                     'Q': 'Missing due to other causes but replaced by a removable restoration',\n",
    "                     'R': 'Missing due to dental disease but replaced by a fixed restoration',\n",
    "                     'S': 'Sound permanent tooth',\n",
    "                     'T': 'Permanent root tip is present but a restorative replacement is present',\n",
    "                     'U': 'Unerupted',\n",
    "                     'X': 'Missing due to other causes but replaced by a fixed restoration',\n",
    "                     'Y': 'Tooth present, condition cannot be assessed',\n",
    "                     'Z': 'Permanent tooth with a dental carious surface condition'}"
   ]
  },
  {
   "cell_type": "code",
   "execution_count": 14,
   "id": "4ee40584",
   "metadata": {},
   "outputs": [],
   "source": [
    "df_oral_h = pd.DataFrame()\n",
    "\n",
    "for f,l,c in zip(list_filenames_oral_h, \n",
    "                 list_link_oral_h, \n",
    "                 list_cohort_oral_h):\n",
    "    _ = download_read_file(f, l)\n",
    "    _['cohort'] = c\n",
    "    df_oral_h = df_oral_h.append(_)\n",
    "    \n",
    "regex_variables = re.compile(\"OHX\\d{2}TC|OHX\\d{2}CTC\")\n",
    "col_ids_oral_h = ['SEQN', 'OHDDESTS']\n",
    "col_ids_oral_h = col_ids_oral_h + list(filter(regex_variables.match, \n",
    "                                              list(df_oral_h.columns)))\n",
    "col_names_oral_h = ['unique_ids', 'dentition_status_code']\n",
    "col_names_oral_h = col_names_oral_h + ['tooth_counts_'+x[3:5] \n",
    "                                       if len(x)==7 \n",
    "                                       else 'coronal_cavities_'+x[3:5] \n",
    "                                       for x in col_ids_oral_h[2:]]\n",
    "\n",
    "col_dict_oral_h = {i: n for i,n in zip(col_ids_oral_h, \n",
    "                                       col_names_oral_h)}\n",
    "\n",
    "df_oral_h = df_oral_h.loc[:, col_ids_oral_h]\n",
    "df_oral_h = df_oral_h.rename(columns=col_dict_oral_h)\n",
    "df_oral_h = df_oral_h.reset_index(drop=True)\n",
    "\n",
    "u_ids = 'unique_ids'\n",
    "ft_c = 'coronal_cavities_02'\n",
    "lt_c = 'coronal_cavities_31'\n",
    "dent = 'dentition_status_code'\n",
    "df_oral_h.loc[:, u_ids] = df_oral_h.loc[:, u_ids].astype('int')\n",
    "df_oral_h.loc[:, ft_c:lt_c] = df_oral_h.loc[:, ft_c:lt_c].astype('str')\n",
    "df_oral_h[dent] = pd.Categorical(df_oral_h[dent].replace(value_des_dent))\n",
    "\n",
    "for n in col_names_oral_h:\n",
    "    if(n[:5]=='tooth'):\n",
    "        df_oral_h[n] = pd.Categorical(df_oral_h[n].\n",
    "                                      replace(value_des_tooth))\n",
    "    elif(n[:5]=='coron'):\n",
    "        df_oral_h[n] = df_oral_h[[n]].applymap(lambda x: x[2] \n",
    "                                               if x != \"b''\" \n",
    "                                               else float(\"NaN\"))\n",
    "        df_oral_h[n] = pd.Categorical(df_oral_h[n].\n",
    "                                      replace(value_des_coronal))\n",
    "        \n",
    "df_oral_h.to_feather('OHXDEN.feather')"
   ]
  },
  {
   "cell_type": "markdown",
   "id": "2a7eaf6d",
   "metadata": {},
   "source": [
    "### c) Number of cases in datasets"
   ]
  },
  {
   "cell_type": "code",
   "execution_count": 15,
   "id": "a6a6b1c4",
   "metadata": {},
   "outputs": [],
   "source": [
    "string_demo = 'Number of cases in the demographic datasets: '\n",
    "string_or_h = 'Number of cases in the health and dentition datasets: ' "
   ]
  },
  {
   "cell_type": "code",
   "execution_count": 16,
   "id": "f089f431",
   "metadata": {},
   "outputs": [
    {
     "name": "stdout",
     "output_type": "stream",
     "text": [
      "Number of cases in the demographic datasets: 39156\n",
      "Number of cases in the health and dentition datasets: 35909\n"
     ]
    }
   ],
   "source": [
    "print(string_demo + str(df_demo.shape[0]))\n",
    "print(string_or_h + str(df_oral_h.shape[0]))"
   ]
  }
 ],
 "metadata": {
  "jupytext": {
   "formats": "ipynb,py:light"
  },
  "kernelspec": {
   "display_name": "Python 3 (ipykernel)",
   "language": "python",
   "name": "python3"
  },
  "language_info": {
   "codemirror_mode": {
    "name": "ipython",
    "version": 3
   },
   "file_extension": ".py",
   "mimetype": "text/x-python",
   "name": "python",
   "nbconvert_exporter": "python",
   "pygments_lexer": "ipython3",
   "version": "3.9.6"
  }
 },
 "nbformat": 4,
 "nbformat_minor": 5
}
